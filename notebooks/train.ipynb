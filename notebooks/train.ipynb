{
 "cells": [
  {
   "cell_type": "code",
   "execution_count": 1,
   "metadata": {},
   "outputs": [],
   "source": [
    "import os\n",
    "import sys\n",
    "sys.path.append('..')\n",
    "os.chdir('..')\n",
    "\n",
    "import time\n",
    "import numpy as np\n",
    "from tqdm import tqdm\n",
    "import matplotlib.pyplot as plt\n",
    "\n",
    "import torch\n",
    "from torch.optim import Adam\n",
    "\n",
    "from data_loader.dataset import getDataloaders\n",
    "from utils.util import initModel\n",
    "from model.loss import getTotalLoss\n",
    "from model.metrics  import getSegAccuracy, getClsAccuracy, getAuxAccuracy\n",
    "from configs.config_parser import Config"
   ]
  },
  {
   "cell_type": "code",
   "execution_count": 2,
   "metadata": {},
   "outputs": [
    {
     "name": "stdout",
     "output_type": "stream",
     "text": [
      "[INFO] MODE: encoder, DATASET: all, FREEZING: ['out1'], LOSS: segmentation\n",
      "[INFO] loading training/testing split...\n",
      "[INFO] found 1425 examples in the training set...\n",
      "[INFO] found 249 examples in the test set...\n",
      "------------------------------------------------------------\n"
     ]
    }
   ],
   "source": [
    "conf = Config().getConfig()\n",
    "trainLoader, testLoader = getDataloaders(conf)\n",
    "model = initModel(conf).to(conf.GPU_ID)\n",
    "lossFunc = getTotalLoss\n",
    "optimizer = Adam(filter(lambda p: p.requires_grad, model.parameters()), lr=conf.INIT_LR, weight_decay=1e-5)\n",
    "\n",
    "H = {}\n",
    "H[\"train_loss\"] = []\n",
    "H[\"test_loss\"] = []\n",
    "H[\"cls_test_acc\"] = []\n",
    "H[\"cls_train_acc\"] = []\n",
    "H[\"seg_test_acc\"] = []\n",
    "H[\"seg_train_acc\"] = []\n",
    "H[\"aux_test_acc\"] = []\n",
    "H[\"aux_train_acc\"] = []"
   ]
  },
  {
   "cell_type": "code",
   "execution_count": 3,
   "metadata": {},
   "outputs": [],
   "source": [
    "img, msk, lbl = next(iter(trainLoader))"
   ]
  },
  {
   "cell_type": "code",
   "execution_count": 28,
   "metadata": {},
   "outputs": [],
   "source": [
    "# plt.imshow(img[0].squeeze(), cmap = 'gray')"
   ]
  },
  {
   "cell_type": "code",
   "execution_count": 3,
   "metadata": {
    "collapsed": true,
    "jupyter": {
     "outputs_hidden": true
    },
    "tags": []
   },
   "outputs": [
    {
     "name": "stdout",
     "output_type": "stream",
     "text": [
      "[INFO] training the network...\n"
     ]
    },
    {
     "name": "stderr",
     "output_type": "stream",
     "text": [
      "  0%|▏                                        | 1/200 [00:29<1:39:04, 29.87s/it]"
     ]
    },
    {
     "name": "stdout",
     "output_type": "stream",
     "text": [
      "[INFO] EPOCH: 1/200\n",
      "Train loss: 0.497522, Test loss: 0.3710\n",
      "Train Seg acc: 0.8037, Test Seg acc: 0.8689\n",
      "Train Cls acc: 0.3466, Test Cls acc: 0.3744\n",
      "Train Aux acc: 408.7871, Test Aux acc: 445.8597\n"
     ]
    },
    {
     "name": "stderr",
     "output_type": "stream",
     "text": [
      "  1%|▍                                        | 2/200 [00:58<1:35:46, 29.02s/it]"
     ]
    },
    {
     "name": "stdout",
     "output_type": "stream",
     "text": [
      "[INFO] EPOCH: 2/200\n",
      "Train loss: 0.372330, Test loss: 0.3088\n",
      "Train Seg acc: 0.8761, Test Seg acc: 0.8972\n",
      "Train Cls acc: 0.3612, Test Cls acc: 0.3634\n",
      "Train Aux acc: 449.0963, Test Aux acc: 459.6582\n"
     ]
    },
    {
     "name": "stderr",
     "output_type": "stream",
     "text": [
      "  2%|▌                                        | 3/200 [01:26<1:33:33, 28.49s/it]"
     ]
    },
    {
     "name": "stdout",
     "output_type": "stream",
     "text": [
      "[INFO] EPOCH: 3/200\n",
      "Train loss: 0.336400, Test loss: 0.2999\n",
      "Train Seg acc: 0.8907, Test Seg acc: 0.9019\n",
      "Train Cls acc: 0.3563, Test Cls acc: 0.3886\n",
      "Train Aux acc: 456.3194, Test Aux acc: 462.2605\n"
     ]
    },
    {
     "name": "stderr",
     "output_type": "stream",
     "text": [
      "  2%|▊                                        | 4/200 [01:53<1:32:12, 28.23s/it]"
     ]
    },
    {
     "name": "stdout",
     "output_type": "stream",
     "text": [
      "[INFO] EPOCH: 4/200\n",
      "Train loss: 0.316511, Test loss: 0.2673\n",
      "Train Seg acc: 0.8948, Test Seg acc: 0.9103\n",
      "Train Cls acc: 0.3795, Test Cls acc: 0.3719\n",
      "Train Aux acc: 458.4501, Test Aux acc: 466.2478\n"
     ]
    },
    {
     "name": "stderr",
     "output_type": "stream",
     "text": [
      "  2%|█                                        | 5/200 [02:21<1:31:22, 28.12s/it]"
     ]
    },
    {
     "name": "stdout",
     "output_type": "stream",
     "text": [
      "[INFO] EPOCH: 5/200\n",
      "Train loss: 0.300209, Test loss: 0.2580\n",
      "Train Seg acc: 0.9030, Test Seg acc: 0.9200\n",
      "Train Cls acc: 0.3492, Test Cls acc: 0.3761\n",
      "Train Aux acc: 462.5468, Test Aux acc: 471.3741\n"
     ]
    },
    {
     "name": "stderr",
     "output_type": "stream",
     "text": [
      "  3%|█▏                                       | 6/200 [02:49<1:30:43, 28.06s/it]"
     ]
    },
    {
     "name": "stdout",
     "output_type": "stream",
     "text": [
      "[INFO] EPOCH: 6/200\n",
      "Train loss: 0.286470, Test loss: 0.2543\n",
      "Train Seg acc: 0.9078, Test Seg acc: 0.9207\n",
      "Train Cls acc: 0.3773, Test Cls acc: 0.3886\n",
      "Train Aux acc: 464.8861, Test Aux acc: 471.4895\n"
     ]
    },
    {
     "name": "stderr",
     "output_type": "stream",
     "text": [
      "  4%|█▍                                       | 7/200 [03:17<1:29:33, 27.84s/it]"
     ]
    },
    {
     "name": "stdout",
     "output_type": "stream",
     "text": [
      "[INFO] EPOCH: 7/200\n",
      "Train loss: 0.265822, Test loss: 0.2474\n",
      "Train Seg acc: 0.9166, Test Seg acc: 0.9232\n",
      "Train Cls acc: 0.3573, Test Cls acc: 0.3278\n",
      "Train Aux acc: 469.3545, Test Aux acc: 472.7989\n"
     ]
    },
    {
     "name": "stderr",
     "output_type": "stream",
     "text": [
      "  4%|█▋                                       | 8/200 [03:45<1:29:18, 27.91s/it]"
     ]
    },
    {
     "name": "stdout",
     "output_type": "stream",
     "text": [
      "[INFO] EPOCH: 8/200\n",
      "Train loss: 0.260248, Test loss: 0.2534\n",
      "Train Seg acc: 0.9169, Test Seg acc: 0.9166\n",
      "Train Cls acc: 0.3623, Test Cls acc: 0.4094\n",
      "Train Aux acc: 469.5216, Test Aux acc: 469.3937\n"
     ]
    },
    {
     "name": "stderr",
     "output_type": "stream",
     "text": [
      "  4%|█▊                                       | 9/200 [04:12<1:28:34, 27.83s/it]"
     ]
    },
    {
     "name": "stdout",
     "output_type": "stream",
     "text": [
      "[INFO] EPOCH: 9/200\n",
      "Train loss: 0.268597, Test loss: 0.2384\n",
      "Train Seg acc: 0.9124, Test Seg acc: 0.9217\n",
      "Train Cls acc: 0.3609, Test Cls acc: 0.3906\n",
      "Train Aux acc: 467.1888, Test Aux acc: 471.9576\n"
     ]
    },
    {
     "name": "stderr",
     "output_type": "stream",
     "text": [
      "  5%|██                                      | 10/200 [04:40<1:27:59, 27.79s/it]"
     ]
    },
    {
     "name": "stdout",
     "output_type": "stream",
     "text": [
      "[INFO] EPOCH: 10/200\n",
      "Train loss: 0.250511, Test loss: 0.2370\n",
      "Train Seg acc: 0.9204, Test Seg acc: 0.9231\n",
      "Train Cls acc: 0.3606, Test Cls acc: 0.3574\n",
      "Train Aux acc: 471.2416, Test Aux acc: 472.6175\n"
     ]
    },
    {
     "name": "stderr",
     "output_type": "stream",
     "text": [
      "  6%|██▏                                     | 11/200 [05:08<1:27:20, 27.73s/it]"
     ]
    },
    {
     "name": "stdout",
     "output_type": "stream",
     "text": [
      "[INFO] EPOCH: 11/200\n",
      "Train loss: 0.233805, Test loss: 0.2028\n",
      "Train Seg acc: 0.9268, Test Seg acc: 0.9344\n",
      "Train Cls acc: 0.3712, Test Cls acc: 0.3841\n",
      "Train Aux acc: 474.5266, Test Aux acc: 478.4247\n"
     ]
    },
    {
     "name": "stderr",
     "output_type": "stream",
     "text": [
      "  6%|██▍                                     | 12/200 [05:35<1:26:54, 27.74s/it]"
     ]
    },
    {
     "name": "stdout",
     "output_type": "stream",
     "text": [
      "[INFO] EPOCH: 12/200\n",
      "Train loss: 0.237825, Test loss: 0.2140\n",
      "Train Seg acc: 0.9238, Test Seg acc: 0.9318\n",
      "Train Cls acc: 0.3447, Test Cls acc: 0.3920\n",
      "Train Aux acc: 473.0058, Test Aux acc: 477.1219\n"
     ]
    },
    {
     "name": "stderr",
     "output_type": "stream",
     "text": [
      "  6%|██▌                                     | 13/200 [06:03<1:25:50, 27.54s/it]"
     ]
    },
    {
     "name": "stdout",
     "output_type": "stream",
     "text": [
      "[INFO] EPOCH: 13/200\n",
      "Train loss: 0.240094, Test loss: 0.1931\n",
      "Train Seg acc: 0.9212, Test Seg acc: 0.9374\n",
      "Train Cls acc: 0.3444, Test Cls acc: 0.3469\n",
      "Train Aux acc: 471.6582, Test Aux acc: 479.9513\n"
     ]
    },
    {
     "name": "stderr",
     "output_type": "stream",
     "text": [
      "  7%|██▊                                     | 14/200 [06:30<1:25:23, 27.55s/it]"
     ]
    },
    {
     "name": "stdout",
     "output_type": "stream",
     "text": [
      "[INFO] EPOCH: 14/200\n",
      "Train loss: 0.225084, Test loss: 0.2281\n",
      "Train Seg acc: 0.9283, Test Seg acc: 0.9237\n",
      "Train Cls acc: 0.3369, Test Cls acc: 0.3531\n",
      "Train Aux acc: 475.3054, Test Aux acc: 473.0101\n"
     ]
    },
    {
     "name": "stderr",
     "output_type": "stream",
     "text": [
      "  8%|███                                     | 15/200 [06:58<1:24:51, 27.52s/it]"
     ]
    },
    {
     "name": "stdout",
     "output_type": "stream",
     "text": [
      "[INFO] EPOCH: 15/200\n",
      "Train loss: 0.214873, Test loss: 0.3111\n",
      "Train Seg acc: 0.9318, Test Seg acc: 0.8917\n",
      "Train Cls acc: 0.3234, Test Cls acc: 0.3293\n",
      "Train Aux acc: 477.0885, Test Aux acc: 456.5456\n"
     ]
    },
    {
     "name": "stderr",
     "output_type": "stream",
     "text": [
      "  8%|███▏                                    | 16/200 [07:25<1:24:43, 27.63s/it]"
     ]
    },
    {
     "name": "stdout",
     "output_type": "stream",
     "text": [
      "[INFO] EPOCH: 16/200\n",
      "Train loss: 0.206159, Test loss: 0.1991\n",
      "Train Seg acc: 0.9349, Test Seg acc: 0.9348\n",
      "Train Cls acc: 0.3220, Test Cls acc: 0.3321\n",
      "Train Aux acc: 478.6502, Test Aux acc: 478.6171\n"
     ]
    },
    {
     "name": "stderr",
     "output_type": "stream",
     "text": [
      "  8%|███▍                                    | 17/200 [07:54<1:24:40, 27.76s/it]"
     ]
    },
    {
     "name": "stdout",
     "output_type": "stream",
     "text": [
      "[INFO] EPOCH: 17/200\n",
      "Train loss: 0.233612, Test loss: 0.2381\n",
      "Train Seg acc: 0.9244, Test Seg acc: 0.9224\n",
      "Train Cls acc: 0.3583, Test Cls acc: 0.3591\n",
      "Train Aux acc: 473.2377, Test Aux acc: 472.2484\n"
     ]
    },
    {
     "name": "stderr",
     "output_type": "stream",
     "text": [
      "  9%|███▌                                    | 18/200 [08:22<1:24:26, 27.84s/it]"
     ]
    },
    {
     "name": "stdout",
     "output_type": "stream",
     "text": [
      "[INFO] EPOCH: 18/200\n",
      "Train loss: 0.180360, Test loss: 0.1875\n",
      "Train Seg acc: 0.9433, Test Seg acc: 0.9391\n",
      "Train Cls acc: 0.3645, Test Cls acc: 0.3560\n",
      "Train Aux acc: 482.9357, Test Aux acc: 480.8005\n"
     ]
    },
    {
     "name": "stderr",
     "output_type": "stream",
     "text": [
      " 10%|███▊                                    | 19/200 [08:49<1:23:50, 27.79s/it]"
     ]
    },
    {
     "name": "stdout",
     "output_type": "stream",
     "text": [
      "[INFO] EPOCH: 19/200\n",
      "Train loss: 0.189993, Test loss: 0.2436\n",
      "Train Seg acc: 0.9397, Test Seg acc: 0.9179\n",
      "Train Cls acc: 0.3888, Test Cls acc: 0.3656\n",
      "Train Aux acc: 481.1421, Test Aux acc: 469.9196\n"
     ]
    },
    {
     "name": "stderr",
     "output_type": "stream",
     "text": [
      " 10%|████                                    | 20/200 [09:17<1:23:26, 27.81s/it]"
     ]
    },
    {
     "name": "stdout",
     "output_type": "stream",
     "text": [
      "[INFO] EPOCH: 20/200\n",
      "Train loss: 0.173139, Test loss: 0.1827\n",
      "Train Seg acc: 0.9460, Test Seg acc: 0.9406\n",
      "Train Cls acc: 0.3445, Test Cls acc: 0.3812\n",
      "Train Aux acc: 484.3284, Test Aux acc: 481.5719\n"
     ]
    },
    {
     "name": "stderr",
     "output_type": "stream",
     "text": [
      " 10%|████▏                                   | 21/200 [09:45<1:23:05, 27.85s/it]"
     ]
    },
    {
     "name": "stdout",
     "output_type": "stream",
     "text": [
      "[INFO] EPOCH: 21/200\n",
      "Train loss: 0.189105, Test loss: 0.1923\n",
      "Train Seg acc: 0.9394, Test Seg acc: 0.9361\n",
      "Train Cls acc: 0.3816, Test Cls acc: 0.3733\n",
      "Train Aux acc: 480.9597, Test Aux acc: 479.2786\n"
     ]
    },
    {
     "name": "stderr",
     "output_type": "stream",
     "text": [
      " 11%|████▍                                   | 22/200 [10:13<1:22:43, 27.89s/it]"
     ]
    },
    {
     "name": "stdout",
     "output_type": "stream",
     "text": [
      "[INFO] EPOCH: 22/200\n",
      "Train loss: 0.181524, Test loss: 0.1973\n",
      "Train Seg acc: 0.9428, Test Seg acc: 0.9337\n",
      "Train Cls acc: 0.3588, Test Cls acc: 0.3858\n",
      "Train Aux acc: 482.7118, Test Aux acc: 478.0653\n"
     ]
    },
    {
     "name": "stderr",
     "output_type": "stream",
     "text": [
      " 12%|████▌                                   | 23/200 [10:41<1:22:08, 27.84s/it]"
     ]
    },
    {
     "name": "stdout",
     "output_type": "stream",
     "text": [
      "[INFO] EPOCH: 23/200\n",
      "Train loss: 0.159211, Test loss: 0.2005\n",
      "Train Seg acc: 0.9504, Test Seg acc: 0.9339\n",
      "Train Cls acc: 0.3541, Test Cls acc: 0.3261\n",
      "Train Aux acc: 486.6066, Test Aux acc: 478.1489\n"
     ]
    },
    {
     "name": "stderr",
     "output_type": "stream",
     "text": [
      " 12%|████▊                                   | 24/200 [11:09<1:21:43, 27.86s/it]"
     ]
    },
    {
     "name": "stdout",
     "output_type": "stream",
     "text": [
      "[INFO] EPOCH: 24/200\n",
      "Train loss: 0.169043, Test loss: 0.1753\n",
      "Train Seg acc: 0.9469, Test Seg acc: 0.9424\n",
      "Train Cls acc: 0.3394, Test Cls acc: 0.3514\n",
      "Train Aux acc: 484.7676, Test Aux acc: 482.4875\n"
     ]
    },
    {
     "name": "stderr",
     "output_type": "stream",
     "text": [
      " 12%|█████                                   | 25/200 [11:36<1:21:13, 27.85s/it]"
     ]
    },
    {
     "name": "stdout",
     "output_type": "stream",
     "text": [
      "[INFO] EPOCH: 25/200\n",
      "Train loss: 0.168753, Test loss: 0.1719\n",
      "Train Seg acc: 0.9457, Test Seg acc: 0.9437\n",
      "Train Cls acc: 0.3347, Test Cls acc: 0.3389\n",
      "Train Aux acc: 484.1747, Test Aux acc: 483.1651\n"
     ]
    },
    {
     "name": "stderr",
     "output_type": "stream",
     "text": [
      " 13%|█████▏                                  | 26/200 [12:05<1:21:21, 28.05s/it]"
     ]
    },
    {
     "name": "stdout",
     "output_type": "stream",
     "text": [
      "[INFO] EPOCH: 26/200\n",
      "Train loss: 0.161888, Test loss: 0.2565\n",
      "Train Seg acc: 0.9469, Test Seg acc: 0.9125\n",
      "Train Cls acc: 0.3503, Test Cls acc: 0.3844\n",
      "Train Aux acc: 484.8006, Test Aux acc: 467.2484\n"
     ]
    },
    {
     "name": "stderr",
     "output_type": "stream",
     "text": [
      " 14%|█████▍                                  | 27/200 [12:33<1:21:08, 28.14s/it]"
     ]
    },
    {
     "name": "stdout",
     "output_type": "stream",
     "text": [
      "[INFO] EPOCH: 27/200\n",
      "Train loss: 0.146401, Test loss: 0.1953\n",
      "Train Seg acc: 0.9540, Test Seg acc: 0.9360\n",
      "Train Cls acc: 0.3400, Test Cls acc: 0.3452\n",
      "Train Aux acc: 488.4476, Test Aux acc: 479.2040\n"
     ]
    },
    {
     "name": "stderr",
     "output_type": "stream",
     "text": [
      " 14%|█████▍                                  | 27/200 [12:52<1:22:28, 28.60s/it]\n"
     ]
    },
    {
     "ename": "KeyboardInterrupt",
     "evalue": "",
     "output_type": "error",
     "traceback": [
      "\u001b[0;31m---------------------------------------------------------------------------\u001b[0m",
      "\u001b[0;31mKeyboardInterrupt\u001b[0m                         Traceback (most recent call last)",
      "Cell \u001b[0;32mIn[3], line 12\u001b[0m\n\u001b[1;32m     10\u001b[0m source, seg_true, cls_true \u001b[38;5;241m=\u001b[39m source\u001b[38;5;241m.\u001b[39mto(conf\u001b[38;5;241m.\u001b[39mGPU_ID), seg_true\u001b[38;5;241m.\u001b[39mto(conf\u001b[38;5;241m.\u001b[39mGPU_ID), cls_true\u001b[38;5;241m.\u001b[39mto(conf\u001b[38;5;241m.\u001b[39mGPU_ID)\n\u001b[1;32m     11\u001b[0m cls_pred, seg_pred \u001b[38;5;241m=\u001b[39m model(source)\n\u001b[0;32m---> 12\u001b[0m loss \u001b[38;5;241m=\u001b[39m lossFunc(seg_pred , seg_true, cls_pred, cls_true, conf\u001b[38;5;241m.\u001b[39mLOSS)\n\u001b[1;32m     14\u001b[0m optimizer\u001b[38;5;241m.\u001b[39mzero_grad()\n\u001b[1;32m     15\u001b[0m loss\u001b[38;5;241m.\u001b[39mbackward()\n",
      "File \u001b[0;32m~/_repos/_Sync/_Projects/_BlockFalls/segmentation/AuxNet/v1.1/model/loss.py:43\u001b[0m, in \u001b[0;36mgetTotalLoss\u001b[0;34m(segPred, segTrue, clsPred, clsTrue, lossType)\u001b[0m\n\u001b[1;32m     41\u001b[0m     totalLoss \u001b[38;5;241m=\u001b[39m \u001b[38;5;241m0.5\u001b[39m\u001b[38;5;241m*\u001b[39msegLoss(segPred, segTrue) \u001b[38;5;241m+\u001b[39m \u001b[38;5;241m0.5\u001b[39m\u001b[38;5;241m*\u001b[39mclsLoss(clsPred, clsTrue)\n\u001b[1;32m     42\u001b[0m \u001b[38;5;28;01melif\u001b[39;00m lossType \u001b[38;5;241m==\u001b[39m \u001b[38;5;124m'\u001b[39m\u001b[38;5;124msegmentation\u001b[39m\u001b[38;5;124m'\u001b[39m:\n\u001b[0;32m---> 43\u001b[0m     totalLoss \u001b[38;5;241m=\u001b[39m segLoss(segPred, segTrue)\n\u001b[1;32m     44\u001b[0m \u001b[38;5;28;01melif\u001b[39;00m lossType \u001b[38;5;241m==\u001b[39m \u001b[38;5;124m'\u001b[39m\u001b[38;5;124mclassification\u001b[39m\u001b[38;5;124m'\u001b[39m:\n\u001b[1;32m     45\u001b[0m     totalLoss \u001b[38;5;241m=\u001b[39m clsLoss(clsPred, clsTrue)\n",
      "File \u001b[0;32m~/_repos/_Sync/_Projects/_BlockFalls/segmentation/AuxNet/v1.1/model/loss.py:25\u001b[0m, in \u001b[0;36mcompLoss\u001b[0;34m(pred, true)\u001b[0m\n\u001b[1;32m     23\u001b[0m \u001b[38;5;28;01mfor\u001b[39;00m thresh \u001b[38;5;129;01min\u001b[39;00m np\u001b[38;5;241m.\u001b[39marange(\u001b[38;5;241m0.5\u001b[39m, \u001b[38;5;241m1\u001b[39m,  \u001b[38;5;241m0.05\u001b[39m):\n\u001b[1;32m     24\u001b[0m     \u001b[38;5;28;01mif\u001b[39;00m IoU \u001b[38;5;241m>\u001b[39m thresh:\n\u001b[0;32m---> 25\u001b[0m         IoUL \u001b[38;5;241m=\u001b[39m IoUL \u001b[38;5;241m+\u001b[39m (\u001b[38;5;241m1\u001b[39m \u001b[38;5;241m-\u001b[39m IoU)\n\u001b[1;32m     26\u001b[0m     \u001b[38;5;28;01melse\u001b[39;00m:\n\u001b[1;32m     27\u001b[0m         IoUL \u001b[38;5;241m=\u001b[39m IoUL \u001b[38;5;241m+\u001b[39m \u001b[38;5;241m1\u001b[39m\n",
      "File \u001b[0;32m/scr1/mart_ol/miniconda3/envs/semseg/lib/python3.11/site-packages/torch/_tensor.py:34\u001b[0m, in \u001b[0;36m_handle_torch_function_and_wrap_type_error_to_not_implemented.<locals>.wrapped\u001b[0;34m(*args, **kwargs)\u001b[0m\n\u001b[1;32m     31\u001b[0m \u001b[38;5;28;01mdef\u001b[39;00m \u001b[38;5;21m_handle_torch_function_and_wrap_type_error_to_not_implemented\u001b[39m(f):\n\u001b[1;32m     32\u001b[0m     assigned \u001b[38;5;241m=\u001b[39m functools\u001b[38;5;241m.\u001b[39mWRAPPER_ASSIGNMENTS\n\u001b[0;32m---> 34\u001b[0m     \u001b[38;5;129m@functools\u001b[39m\u001b[38;5;241m.\u001b[39mwraps(f, assigned\u001b[38;5;241m=\u001b[39massigned)\n\u001b[1;32m     35\u001b[0m     \u001b[38;5;28;01mdef\u001b[39;00m \u001b[38;5;21mwrapped\u001b[39m(\u001b[38;5;241m*\u001b[39margs, \u001b[38;5;241m*\u001b[39m\u001b[38;5;241m*\u001b[39mkwargs):\n\u001b[1;32m     36\u001b[0m         \u001b[38;5;28;01mtry\u001b[39;00m:\n\u001b[1;32m     37\u001b[0m             \u001b[38;5;66;03m# See https://github.com/pytorch/pytorch/issues/75462\u001b[39;00m\n\u001b[1;32m     38\u001b[0m             \u001b[38;5;28;01mif\u001b[39;00m has_torch_function(args):\n",
      "\u001b[0;31mKeyboardInterrupt\u001b[0m: "
     ]
    }
   ],
   "source": [
    "# loop over epochs\n",
    "print(\"[INFO] training the network...\")\n",
    "for epoch in tqdm(range(conf.NUM_EPOCHS)):\n",
    "    model.train()\n",
    "    totalTestLoss, totalTrainLoss = 0, 0\n",
    "    totalTestSegAcc, totalTrainSegAcc = 0, 0\n",
    "    totalTestClsAcc, totalTrainClsAcc = 0, 0 \n",
    "    totalTestAuxAcc, totalTrainAuxAcc = 0, 0\n",
    "    for source, seg_true, cls_true in trainLoader:\n",
    "        source, seg_true, cls_true = source.to(conf.GPU_ID), seg_true.to(conf.GPU_ID), cls_true.to(conf.GPU_ID)\n",
    "        cls_pred, seg_pred = model(source)\n",
    "        loss = lossFunc(seg_pred , seg_true, cls_pred, cls_true, conf.LOSS)\n",
    "        \n",
    "        optimizer.zero_grad()\n",
    "        loss.backward()\n",
    "        optimizer.step()\n",
    "        \n",
    "        totalTrainLoss += loss\n",
    "        totalTrainSegAcc += getSegAccuracy(seg_pred, seg_true)\n",
    "        totalTrainClsAcc += getClsAccuracy(cls_pred, cls_true)\n",
    "        totalTrainAuxAcc += getAuxAccuracy(seg_pred, cls_pred, seg_true)\n",
    "        \n",
    "    with torch.no_grad():\n",
    "        model.eval()\n",
    "        for source, seg_true, cls_true in testLoader:\n",
    "            source, seg_true, cls_true = source.to(conf.GPU_ID), seg_true.to(conf.GPU_ID), cls_true.to(conf.GPU_ID)\n",
    "            cls_pred, seg_pred = model(source)\n",
    "            loss = lossFunc(seg_pred , seg_true, cls_pred, cls_true, conf.LOSS)\n",
    "            \n",
    "            totalTestLoss += loss\n",
    "            totalTestSegAcc += getSegAccuracy(seg_pred, seg_true)\n",
    "            totalTestClsAcc += getClsAccuracy(cls_pred, cls_true)\n",
    "            totalTestAuxAcc += getAuxAccuracy(seg_pred, cls_pred, seg_true)\n",
    "            \n",
    "    # Losses\n",
    "    trainLoss = totalTrainLoss / trainLoader.__len__()\n",
    "    testLoss = totalTestLoss / testLoader.__len__()\n",
    "\n",
    "    # Accuracies\n",
    "    testSegAcc = totalTestSegAcc / testLoader.__len__()\n",
    "    trainSegAcc = totalTrainSegAcc / trainLoader.__len__()\n",
    "    testClsAcc = totalTestClsAcc / testLoader.__len__()\n",
    "    trainClsAcc = totalTrainClsAcc / trainLoader.__len__()\n",
    "    testAuxAcc = totalTestAuxAcc / testLoader.__len__()\n",
    "    trainAuxAcc = totalTrainAuxAcc / trainLoader.__len__()\n",
    "    \n",
    "    # Metrics Dictionary \n",
    "    H[\"train_loss\"].append(trainLoss.item())\n",
    "    H[\"test_loss\"].append(testLoss.item())\n",
    "    H[\"cls_test_acc\"].append(testClsAcc)\n",
    "    H[\"cls_train_acc\"].append(trainClsAcc)\n",
    "    H[\"seg_test_acc\"].append(testSegAcc)\n",
    "    H[\"seg_train_acc\"].append(trainSegAcc)\n",
    "    H[\"aux_test_acc\"].append(testAuxAcc)\n",
    "    H[\"aux_train_acc\"].append(trainAuxAcc)\n",
    "    \n",
    "    # self._save_model()\n",
    "    \n",
    "    # Epoch progress\n",
    "    print(\"[INFO] EPOCH: {}/{}\".format(epoch + 1, conf.NUM_EPOCHS))\n",
    "    print(\"Train loss: {:.6f}, Test loss: {:.4f}\".format(trainLoss, testLoss))\n",
    "    print(\"Train Seg acc: {:.4f}, Test Seg acc: {:.4f}\".format(trainSegAcc, testSegAcc))\n",
    "    print(\"Train Cls acc: {:.4f}, Test Cls acc: {:.4f}\".format(trainClsAcc, testClsAcc))\n",
    "    print(\"Train Aux acc: {:.4f}, Test Aux acc: {:.4f}\".format(trainAuxAcc, testAuxAcc))"
   ]
  },
  {
   "cell_type": "code",
   "execution_count": 7,
   "metadata": {},
   "outputs": [
    {
     "data": {
      "text/plain": [
       "torch.Size([16, 2, 512, 512])"
      ]
     },
     "execution_count": 7,
     "metadata": {},
     "output_type": "execute_result"
    }
   ],
   "source": []
  },
  {
   "cell_type": "code",
   "execution_count": 6,
   "metadata": {},
   "outputs": [
    {
     "data": {
      "text/plain": [
       "torch.Size([16, 2, 512, 512])"
      ]
     },
     "execution_count": 6,
     "metadata": {},
     "output_type": "execute_result"
    }
   ],
   "source": []
  },
  {
   "cell_type": "code",
   "execution_count": 8,
   "metadata": {},
   "outputs": [
    {
     "data": {
      "text/plain": [
       "<matplotlib.legend.Legend at 0x1ee1b6b0970>"
      ]
     },
     "execution_count": 8,
     "metadata": {},
     "output_type": "execute_result"
    },
    {
     "data": {
      "image/png": "[encoded data removed]",
      "text/plain": [
       "<Figure size 640x480 with 1 Axes>"
      ]
     },
     "metadata": {},
     "output_type": "display_data"
    }
   ],
   "source": [
    "# plot the training loss\n",
    "plt.style.use(\"ggplot\")\n",
    "plt.figure()\n",
    "plt.plot(H[\"train_loss\"], label=\"train_loss\")\n",
    "plt.plot(H[\"test_loss\"], label=\"test_loss\")\n",
    "plt.title(\"Training Loss on Dataset\")\n",
    "plt.xlabel(\"Epoch #\")\n",
    "plt.ylabel(\"Loss\")\n",
    "plt.legend(loc=\"lower left\")"
   ]
  }
 ],
 "metadata": {
  "kernelspec": {
   "display_name": "semseg",
   "language": "python",
   "name": "semseg"
  },
  "language_info": {
   "codemirror_mode": {
    "name": "ipython",
    "version": 3
   },
   "file_extension": ".py",
   "mimetype": "text/x-python",
   "name": "python",
   "nbconvert_exporter": "python",
   "pygments_lexer": "ipython3",
   "version": "3.11.7"
  }
 },
 "nbformat": 4,
 "nbformat_minor": 4
}
