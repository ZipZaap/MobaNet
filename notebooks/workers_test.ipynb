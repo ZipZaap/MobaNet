{
 "cells": [
  {
   "cell_type": "code",
   "execution_count": 1,
   "id": "79cba257-8bad-4181-b5a4-d64445d1b26a",
   "metadata": {},
   "outputs": [],
   "source": [
    "import sys\n",
    "import os\n",
    "sys.path.append('..')\n",
    "os.chdir('..')\n",
    "\n",
    "from time import time\n",
    "import multiprocessing as mp\n",
    "\n",
    "from configs.config_parser import Config\n",
    "from data_loader.dataset import getDataloaders"
   ]
  },
  {
   "cell_type": "code",
   "execution_count": 2,
   "id": "5183bab2-ccac-48d7-80e2-aa606d75e34a",
   "metadata": {},
   "outputs": [
    {
     "name": "stdout",
     "output_type": "stream",
     "text": [
      "[INFO] MODEL: DenseNet, MODE: dense, DATASET: all, FREEZING: None, LOSS: classification\n"
     ]
    }
   ],
   "source": [
    "conf = Config().getConfig()"
   ]
  },
  {
   "cell_type": "code",
   "execution_count": 3,
   "id": "017e22f6-0603-4b0e-9d9a-b3e6c1e7bf71",
   "metadata": {},
   "outputs": [
    {
     "name": "stdout",
     "output_type": "stream",
     "text": [
      "Finish with:33.13250970840454 second, num_workers=0\n",
      "Finish with:17.532179594039917 second, num_workers=2\n",
      "Finish with:9.911295413970947 second, num_workers=4\n",
      "Finish with:7.64637303352356 second, num_workers=6\n",
      "Finish with:7.938835620880127 second, num_workers=8\n",
      "Finish with:7.507995128631592 second, num_workers=10\n",
      "Finish with:7.664217233657837 second, num_workers=12\n",
      "Finish with:7.710725545883179 second, num_workers=14\n",
      "Finish with:8.04202651977539 second, num_workers=16\n",
      "Finish with:8.210764646530151 second, num_workers=18\n",
      "Finish with:8.226634740829468 second, num_workers=20\n",
      "Finish with:8.327163457870483 second, num_workers=22\n",
      "Finish with:8.797804832458496 second, num_workers=24\n",
      "Finish with:8.865157842636108 second, num_workers=26\n",
      "Finish with:8.907569885253906 second, num_workers=28\n",
      "Finish with:9.242088079452515 second, num_workers=30\n"
     ]
    }
   ],
   "source": [
    "for num_workers in range(0, 32, 2):  \n",
    "    conf.NUM_WORKERS = num_workers\n",
    "    trainLoader, testLoader = getDataloaders(conf)\n",
    "    start = time()\n",
    "    \n",
    "    for epoch in range(1, 3):\n",
    "        for i, data in enumerate(trainLoader, 0):\n",
    "            pass\n",
    "        \n",
    "    end = time()\n",
    "    print(\"Finish with:{} second, num_workers={}\".format(end - start, num_workers))"
   ]
  },
  {
   "cell_type": "code",
   "execution_count": null,
   "id": "21e404fe-8a3c-4380-9593-c0cfbf520238",
   "metadata": {},
   "outputs": [],
   "source": []
  }
 ],
 "metadata": {
  "kernelspec": {
   "display_name": "semseg",
   "language": "python",
   "name": "semseg"
  },
  "language_info": {
   "codemirror_mode": {
    "name": "ipython",
    "version": 3
   },
   "file_extension": ".py",
   "mimetype": "text/x-python",
   "name": "python",
   "nbconvert_exporter": "python",
   "pygments_lexer": "ipython3",
   "version": "3.11.7"
  }
 },
 "nbformat": 4,
 "nbformat_minor": 5
}
