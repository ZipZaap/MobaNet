{
 "cells": [
  {
   "cell_type": "code",
   "execution_count": 1,
   "metadata": {},
   "outputs": [
    {
     "name": "stdout",
     "output_type": "stream",
     "text": [
      "[INFO] MODEL: UNet_default, DATASET: all, LOSS: segmentation\n",
      "UNet\n",
      "util\n",
      "trainer\n",
      "dset\n",
      "main\n"
     ]
    }
   ],
   "source": [
    "from torch.optim import Adam\n",
    "import torch.multiprocessing as mp\n",
    "\n",
    "from engines.AuxTrainer import AuxTrainer\n",
    "from engines.ClsTrainer import ClsTrainer\n",
    "from engines.SegTrainer import SegTrainer\n",
    "from model.loss import getTotalLoss\n",
    "from data_loader.dataset import getDataloaders\n",
    "from utils.util import initModel, ddp_setup, ddp_cleanup\n",
    "\n",
    "from configs import CONF\n"
   ]
  },
  {
   "cell_type": "code",
   "execution_count": 5,
   "metadata": {},
   "outputs": [
    {
     "name": "stdout",
     "output_type": "stream",
     "text": [
      "[INFO] found 1143 examples in the training set...\n",
      "[INFO] found 201 examples in the test set...\n",
      "------------------------------------------------------------\n"
     ]
    }
   ],
   "source": [
    "trainLoader, testLoader = getDataloaders(CONF.GPU_ID)\n",
    "model = initModel(CONF.GPU_ID)\n",
    "lossFunc = getTotalLoss\n",
    "optimizer = Adam(filter(lambda p: p.requires_grad, model.parameters()), lr=CONF.INIT_LR, weight_decay=1e-5)\n",
    "\n",
    "# if CONF.MODEL == 'AuxNet':\n",
    "#     AuxTrainer(CONF.GPU_ID, model, lossFunc, optimizer, testLoader, trainLoader).train()\n",
    "# elif CONF.MODEL == 'DenseNet':\n",
    "#     ClsTrainer(CONF.GPU_ID, model, lossFunc, optimizer, testLoader, trainLoader).train()\n",
    "# elif CONF.MODEL == 'UNet':\n",
    "#     SegTrainer(CONF.GPU_ID, model, lossFunc, optimizer, testLoader, trainLoader).train()\n",
    "    \n",
    "\n",
    "    "
   ]
  },
  {
   "cell_type": "code",
   "execution_count": 6,
   "metadata": {},
   "outputs": [],
   "source": [
    "SegTrainer(CONF.GPU_ID, model, lossFunc, optimizer, testLoader, trainLoader).train()"
   ]
  }
 ],
 "metadata": {
  "kernelspec": {
   "display_name": "torch2.1",
   "language": "python",
   "name": "python3"
  },
  "language_info": {
   "codemirror_mode": {
    "name": "ipython",
    "version": 3
   },
   "file_extension": ".py",
   "mimetype": "text/x-python",
   "name": "python",
   "nbconvert_exporter": "python",
   "pygments_lexer": "ipython3",
   "version": "3.9.18"
  }
 },
 "nbformat": 4,
 "nbformat_minor": 2
}
