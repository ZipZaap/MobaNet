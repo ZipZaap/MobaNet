{
 "cells": [
  {
   "cell_type": "code",
   "execution_count": 1,
   "id": "ef922ba7",
   "metadata": {},
   "outputs": [
    {
     "name": "stdout",
     "output_type": "stream",
     "text": [
      "[INFO] Configuration file passed all validation tests.\n"
     ]
    }
   ],
   "source": [
    "import os\n",
    "import cv2\n",
    "import math\n",
    "import json\n",
    "import glob\n",
    "import random\n",
    "import numpy as np\n",
    "from tqdm import tqdm\n",
    "from pathlib import Path\n",
    "import matplotlib.pyplot as plt\n",
    "os.environ[\"KMP_DUPLICATE_LIB_OK\"] = \"TRUE\"\n",
    "\n",
    "import torch\n",
    "import torch.nn.functional as F\n",
    "\n",
    "from utils.sdf import SDF\n",
    "from utils.util import load_mask, load_png, load_sdm, logits_to_lbl\n",
    "from utils.dataset import DatasetTools\n",
    "from configs.cfgparser import Config\n",
    "\n",
    "from model.MobaNet import MobaNet\n",
    "\n",
    "cfg  = Config('configs/config.yaml', inference = True, cli = False)\n",
    "cfg.RANK = 0\n",
    "\n",
    "from predict import Predictor"
   ]
  },
  {
   "cell_type": "code",
   "execution_count": null,
   "id": "5e049aad",
   "metadata": {},
   "outputs": [
    {
     "name": "stdout",
     "output_type": "stream",
     "text": [
      "tensor([2], device='cuda:0')\n"
     ]
    }
   ],
   "source": [
    "# imID = 'ESP_018244_2655_RED-3456_0'\n",
    "# impath = f'{cfg.IMG_DIR}/{imID}.png'\n",
    "# model = Predictor(cfg)\n",
    "# output = model.predict(impath)"
   ]
  },
  {
   "cell_type": "markdown",
   "id": "3fc7465a",
   "metadata": {},
   "source": []
  },
  {
   "cell_type": "code",
   "execution_count": 70,
   "id": "e089783b",
   "metadata": {},
   "outputs": [],
   "source": [
    "# MASK STATES\n",
    "# 1. UNet input:         1hot encoded; (B, C, H, W)\n",
    "# 2. SDM generation:     1hot encoded; (B, C, H, W)\n",
    "# 3. Losses DICE-based:  1hot encoded; (B, C, H, W)\n",
    "# 4. Loss sdm-based:     1hot encoded; (B, C, H, W)\n",
    "# 5. Losses CE-based:    Argmax();     (B, H, W)\n",
    "# 6. Metrics:            1hot encoded; (B, C, H, W)\n",
    "\n",
    "# SEG LOGIT STATES\n",
    "# 1. Losses DICE-based:  Probabilistic [0; 1];     (B, C, H, W)\n",
    "# 2. Loss sdm-based:     Tanh() sdm-union [-1; 1]; (B, 1, H, W)\n",
    "# 3. Losses CE-based:    Direct logits;            (B, C, H, W)\n",
    "# 4. Metrics:            1hot encoded;             (B, C, H, W)\n",
    "# 5. Visualization:      Argmax()                  (B, 1, H, W)\n",
    "\n",
    "# CLS LOGIT STATES\n",
    "# 1. Loss CE:            Direct logits; (B, C)\n",
    "# 2. Metrics:            Argmax()       (B, ) \n",
    "# 3. UNet forward():     Argmax()       (B, )"
   ]
  },
  {
   "cell_type": "code",
   "execution_count": null,
   "id": "feb12d6e",
   "metadata": {},
   "outputs": [],
   "source": [
    "# impath = cfg.IMG_DIR / 'ESP_018244_2655_RED-3456_0.png'\n",
    "# img = load_png(impath)\n",
    "# # img = img[None, ...]  # add batch dimension\n",
    "# # tensor = torch.from_numpy(img).permute(0, 3, 1, 2).float() # (B, H, W, C) -> (B, C, H, W)\n",
    "# tensor = torch.from_numpy(img).permute(2, 0, 1).float()  # (H, W, C) -> (C, H, W)\n"
   ]
  },
  {
   "cell_type": "code",
   "execution_count": null,
   "id": "498a6424",
   "metadata": {},
   "outputs": [
    {
     "data": {
      "text/plain": [
       "(2, 512, 512)"
      ]
     },
     "execution_count": 8,
     "metadata": {},
     "output_type": "execute_result"
    }
   ],
   "source": [
    "# Post-processing for a clean line: After prediction, compute the boundary as the set of pixels where a 4- or 8-connected \n",
    "# neighborhood changes class, or subtract eroded from dilated masks to get a 1-pixel ridge."
   ]
  }
 ],
 "metadata": {
  "kernelspec": {
   "display_name": "unet",
   "language": "python",
   "name": "python3"
  },
  "language_info": {
   "codemirror_mode": {
    "name": "ipython",
    "version": 3
   },
   "file_extension": ".py",
   "mimetype": "text/x-python",
   "name": "python",
   "nbconvert_exporter": "python",
   "pygments_lexer": "ipython3",
   "version": "3.12.9"
  }
 },
 "nbformat": 4,
 "nbformat_minor": 5
}
