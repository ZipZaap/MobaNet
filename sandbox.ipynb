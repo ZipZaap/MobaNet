{
 "cells": [
  {
   "cell_type": "code",
   "execution_count": 11,
   "metadata": {},
   "outputs": [],
   "source": [
    "import numpy as np\n",
    "import torch\n",
    "import torch.nn as nn\n",
    "\n",
    "from configs.config_parser import CONF\n",
    "from utils.sdf import SDF\n",
    "\n",
    "import cv2\n",
    "import os\n",
    "from tqdm import tqdm\n",
    "\n",
    "# # Create random indices (one per row)\n",
    "# indices = torch.randint(0, 3, (16,))\n",
    "# gt_cls = torch.zeros(16, 3)\n",
    "# gt_cls[torch.arange(16), indices] = 1\n",
    "\n",
    "# logits_cls = torch.randn(16, 3)\n",
    "# num_classes = 3\n",
    "# threshold = 0.7"
   ]
  },
  {
   "cell_type": "code",
   "execution_count": 3,
   "metadata": {},
   "outputs": [],
   "source": [
    "# create a binary mask of shape (16,1,128,128) with random values\n",
    "mask1 = torch.randint(0, 2, (16, 1, 128, 128), device = 'cuda:0').float()\n",
    "mask2 = torch.randint(0, 2, (16, 1, 128, 128), device = 'cuda:0').float()\n",
    "\n",
    "# create two random tensors of shape (16, 1, 128, 128) with values between 0 and 1\n",
    "# tensor1 = torch.rand(16, 1, 128, 128, device = 'cuda:0')\n",
    "# tensor2 = torch.rand(16, 1, 128, 128, device = 'cuda:0')"
   ]
  },
  {
   "cell_type": "code",
   "execution_count": null,
   "metadata": {},
   "outputs": [
    {
     "name": "stderr",
     "output_type": "stream",
     "text": [
      "[PROC] Generating class labels: 100%|██████████| 4933/4933 [00:05<00:00, 910.01it/s]\n"
     ]
    }
   ],
   "source": [
    "import os\n",
    "from pathlib import Path\n",
    "from tqdm import tqdm\n",
    "import cv2\n",
    "import numpy as np\n",
    "\n",
    "# Setup\n",
    "dataset_dir = Path(CONF.DATASET_DIR)\n",
    "img_dir  = dataset_dir / 'images'\n",
    "mask_dir = dataset_dir / 'masks'\n",
    "\n",
    "# Collect image IDs (without .png extension)\n",
    "imIDs = [p.stem for p in img_dir.glob('*.png')]\n",
    "\n",
    "# Initialize label dictionary\n",
    "lbl_dict = {\n",
    "    'background': [],\n",
    "    'foreground': [],\n",
    "    'boundary': []\n",
    "}\n",
    "\n",
    "threshold = 0.01\n",
    "\n",
    "# Process each mask\n",
    "for id in tqdm(imIDs, desc=\"[PROC] Generating class labels\"):\n",
    "    mask_path = mask_dir / f\"{id}.png\"\n",
    "    mask = cv2.imread(str(mask_path), cv2.IMREAD_GRAYSCALE)\n",
    "\n",
    "    mean_val = np.mean(mask/255)\n",
    "    if mean_val < threshold:\n",
    "        lbl_dict['background'].append(id)\n",
    "    elif mean_val > 1 - threshold:\n",
    "        lbl_dict['foreground'].append(id)\n",
    "    else:\n",
    "        lbl_dict['boundary'].append(id)"
   ]
  },
  {
   "cell_type": "code",
   "execution_count": null,
   "metadata": {},
   "outputs": [],
   "source": [
    "mean_val = np.mean(mask/255)"
   ]
  }
 ],
 "metadata": {
  "kernelspec": {
   "display_name": "unet",
   "language": "python",
   "name": "python3"
  },
  "language_info": {
   "codemirror_mode": {
    "name": "ipython",
    "version": 3
   },
   "file_extension": ".py",
   "mimetype": "text/x-python",
   "name": "python",
   "nbconvert_exporter": "python",
   "pygments_lexer": "ipython3",
   "version": "3.9.19"
  }
 },
 "nbformat": 4,
 "nbformat_minor": 2
}
