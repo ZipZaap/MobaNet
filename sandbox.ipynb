{
 "cells": [
  {
   "cell_type": "code",
   "execution_count": 1,
   "id": "ef922ba7",
   "metadata": {},
   "outputs": [
    {
     "name": "stdout",
     "output_type": "stream",
     "text": [
      "[INFO] Configuration file passed all validation tests.\n",
      "[WARN]: Experiment directory 'saved\\exp_0' contains files matching RUN_ID 'MobaNet_ED_full'; they will be overwritten.\n"
     ]
    }
   ],
   "source": [
    "import os\n",
    "import cv2\n",
    "import math\n",
    "import json\n",
    "import glob\n",
    "import random\n",
    "import numpy as np\n",
    "from tqdm import tqdm\n",
    "from pathlib import Path\n",
    "import matplotlib.pyplot as plt\n",
    "os.environ[\"KMP_DUPLICATE_LIB_OK\"] = \"TRUE\"\n",
    "\n",
    "import torch\n",
    "import torch.nn.functional as F\n",
    "\n",
    "from utils.sdf import SDF\n",
    "from utils.util import load_mask, load_png, load_sdm, logits_to_lbl\n",
    "from utils.dataset import DatasetTools\n",
    "from configs.cfgparser import Config\n",
    "\n",
    "from model.MobaNet import MobaNet\n",
    "\n",
    "cfg  = Config('configs/config.yaml', inference = False, cli = False)\n",
    "cfg.RANK = 0\n",
    "\n",
    "from predict import Predictor"
   ]
  },
  {
   "cell_type": "code",
   "execution_count": 2,
   "id": "a03989c4",
   "metadata": {},
   "outputs": [
    {
     "data": {
      "text/plain": [
       "<Config {'DATASET_DIR': WindowsPath('D:/DataStorage/SemSeg/ver1'), 'RESULTS_DIR': WindowsPath('saved'), 'SEED': 13, 'TRAIN_SET': 'full', 'TEST_SET': 'full', 'TEST_SPLIT': 0.15, 'CROSS_VALIDATION': False, 'DEFAULT_FOLD': 0, 'NUM_WORKERS': 1, 'MODEL': 'MobaNet_ED', 'CHECKPOINT': None, 'INPUT_SIZE': 512, 'INPUT_CHANNELS': 1, 'UNET_DEPTH': 5, 'CONV_DEPTH': 16, 'BATCH_SIZE': 16, 'SEG_CLASSES': 2, 'SEG_DROPOUT': 0.1, 'CLS_CLASSES': 3, 'CLS_DROPOUT': 0.3, 'CLS_THRESHOLD': 0.7, 'INIT_LR': 1e-05, 'BASE_LR': 0.0001, 'L2_DECAY': 1e-05, 'WARMUP_EPOCHS': 10, 'TRAIN_EPOCHS': 200, 'SDM_KERNEL_SIZE': 7, 'SDM_DISTANCE': 'chebyshev', 'SDM_NORMALIZATION': 'minmax', 'SDM_SMOOTHING': False, 'SDM_SMOOTHING_ALPHA': 15.0, 'LOSS': 'SoftDICE', 'ADAPTIVE_WEIGHTS': False, 'STATIC_WEIGHTS': None, 'CLAMP_DELTA': 0.2, 'SIGMOID_STEEPNESS': 1000, 'SAVE_MODEL': True, 'EVAL_INTERVAL': 1, 'EVAL_METRIC': 'TTR', 'CMA_COEFFICIENTS': {'DSC': 1, 'IoU': 1, 'ASD': 0, 'AD': 0, 'HD95': 0, 'D95': 0}, 'DISTANCE_METRICS': False, 'GPUs': [0], 'MASTER_ADDR': 'localhost', 'MASTER_PORT': 12355, 'NCCL_P2P': True, 'LOG_WANDB': True, 'LOG_LOCAL': True, 'EXP_ID': 'exp_0', 'RUN_ID': 'MobaNet_ED_full', 'DEFAULT_DEVICE': 'cuda:0', 'TRAIN_DIR': WindowsPath('D:/DataStorage/SemSeg/ver1/train'), 'IMG_DIR': WindowsPath('D:/DataStorage/SemSeg/ver1/train/images'), 'MSK_DIR': WindowsPath('D:/DataStorage/SemSeg/ver1/train/masks'), 'SDM_DIR': WindowsPath('D:/DataStorage/SemSeg/ver1/train/sdms'), 'LBL_JSON': WindowsPath('D:/DataStorage/SemSeg/ver1/train/labels.json'), 'EXP_DIR': WindowsPath('saved/exp_0'), 'TTS_JSON': WindowsPath('saved/tts.json'), 'LOG_JSON': WindowsPath('saved/exp_0/MobaNet_ED_full-log.json'), 'BEST_EPOCH_JSON': WindowsPath('saved/exp_0/MobaNet_ED_full-best.json'), 'MODEL_PTH': WindowsPath('saved/exp_0/MobaNet_ED_full-model.pth'), 'NUM_KFOLDS': 6, 'WORLD_SIZE': 1, 'FREEZE_LAYERS': ['classifier'], 'RANK': 0}>"
      ]
     },
     "execution_count": 2,
     "metadata": {},
     "output_type": "execute_result"
    }
   ],
   "source": [
    "cfg"
   ]
  },
  {
   "cell_type": "code",
   "execution_count": 16,
   "id": "0f8a5a2a",
   "metadata": {},
   "outputs": [],
   "source": [
    "cfg = {'A': 1, 'B': 2, 'C': 3, 'D': 4}\n",
    "\n",
    "def testfun(_a = None, *, b = None, c = None, d = None):\n",
    "   print(locals())\n",
    "   for param, value in locals().items():\n",
    "      if not param.startswith('_') and value is not None:\n",
    "         cfg[param.upper()] = value\n",
    "   print(cfg)"
   ]
  },
  {
   "cell_type": "code",
   "execution_count": 18,
   "id": "91e7598a",
   "metadata": {},
   "outputs": [
    {
     "name": "stdout",
     "output_type": "stream",
     "text": [
      "{'_a': 10, 'b': None, 'c': None, 'd': None}\n",
      "{'A': 1, 'B': 2, 'C': 3, 'D': 4}\n"
     ]
    }
   ],
   "source": [
    "testfun(_a = 10)"
   ]
  },
  {
   "cell_type": "code",
   "execution_count": null,
   "id": "5e049aad",
   "metadata": {},
   "outputs": [
    {
     "name": "stdout",
     "output_type": "stream",
     "text": [
      "tensor([2], device='cuda:0')\n"
     ]
    }
   ],
   "source": [
    "# imID = 'ESP_018244_2655_RED-3456_0'\n",
    "# impath = f'{cfg.IMG_DIR}/{imID}.png'\n",
    "# model = Predictor(cfg)\n",
    "# output = model.predict(impath)"
   ]
  },
  {
   "cell_type": "markdown",
   "id": "3fc7465a",
   "metadata": {},
   "source": []
  },
  {
   "cell_type": "code",
   "execution_count": 70,
   "id": "e089783b",
   "metadata": {},
   "outputs": [],
   "source": [
    "# MASK STATES\n",
    "# 1. UNet input:         1hot encoded; (B, C, H, W)\n",
    "# 2. SDM generation:     1hot encoded; (B, C, H, W)\n",
    "# 3. Losses DICE-based:  1hot encoded; (B, C, H, W)\n",
    "# 4. Loss sdm-based:     1hot encoded; (B, C, H, W)\n",
    "# 5. Losses CE-based:    Argmax();     (B, H, W)\n",
    "# 6. Metrics:            1hot encoded; (B, C, H, W)\n",
    "\n",
    "# SEG LOGIT STATES\n",
    "# 1. Losses DICE-based:  Probabilistic [0; 1];     (B, C, H, W)\n",
    "# 2. Loss sdm-based:     Tanh() sdm-union [-1; 1]; (B, 1, H, W)\n",
    "# 3. Losses CE-based:    Direct logits;            (B, C, H, W)\n",
    "# 4. Metrics:            1hot encoded;             (B, C, H, W)\n",
    "# 5. Visualization:      Argmax()                  (B, 1, H, W)\n",
    "\n",
    "# CLS LOGIT STATES\n",
    "# 1. Loss CE:            Direct logits; (B, C)\n",
    "# 2. Metrics:            Argmax()       (B, ) \n",
    "# 3. UNet forward():     Argmax()       (B, )"
   ]
  },
  {
   "cell_type": "code",
   "execution_count": null,
   "id": "feb12d6e",
   "metadata": {},
   "outputs": [],
   "source": [
    "# impath = cfg.IMG_DIR / 'ESP_018244_2655_RED-3456_0.png'\n",
    "# img = load_png(impath)\n",
    "# # img = img[None, ...]  # add batch dimension\n",
    "# # tensor = torch.from_numpy(img).permute(0, 3, 1, 2).float() # (B, H, W, C) -> (B, C, H, W)\n",
    "# tensor = torch.from_numpy(img).permute(2, 0, 1).float()  # (H, W, C) -> (C, H, W)\n"
   ]
  },
  {
   "cell_type": "code",
   "execution_count": null,
   "id": "498a6424",
   "metadata": {},
   "outputs": [
    {
     "data": {
      "text/plain": [
       "(2, 512, 512)"
      ]
     },
     "execution_count": 8,
     "metadata": {},
     "output_type": "execute_result"
    }
   ],
   "source": [
    "# Post-processing for a clean line: After prediction, compute the boundary as the set of pixels where a 4- or 8-connected \n",
    "# neighborhood changes class, or subtract eroded from dilated masks to get a 1-pixel ridge."
   ]
  }
 ],
 "metadata": {
  "kernelspec": {
   "display_name": "unet",
   "language": "python",
   "name": "python3"
  },
  "language_info": {
   "codemirror_mode": {
    "name": "ipython",
    "version": 3
   },
   "file_extension": ".py",
   "mimetype": "text/x-python",
   "name": "python",
   "nbconvert_exporter": "python",
   "pygments_lexer": "ipython3",
   "version": "3.12.9"
  }
 },
 "nbformat": 4,
 "nbformat_minor": 5
}
